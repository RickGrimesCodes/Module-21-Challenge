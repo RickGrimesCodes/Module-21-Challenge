{
 "cells": [
  {
   "cell_type": "markdown",
   "metadata": {},
   "source": [
    "## Preprocessing"
   ]
  },
  {
   "cell_type": "code",
   "metadata": {
    "ExecuteTime": {
     "end_time": "2024-09-09T22:29:45.089637Z",
     "start_time": "2024-09-09T22:29:35.176700Z"
    }
   },
   "source": [
    "# Import our dependencies\n",
    "from sklearn.model_selection import train_test_split\n",
    "from sklearn.preprocessing import StandardScaler\n",
    "import pandas as pd\n",
    "import tensorflow as tf\n",
    "\n",
    "#  Import and read the charity_data.csv.\n",
    "import pandas as pd \n",
    "application_df = pd.read_csv(\"https://static.bc-edx.com/data/dl-1-2/m21/lms/starter/charity_data.csv\")\n",
    "application_df.head()"
   ],
   "outputs": [
    {
     "data": {
      "text/plain": [
       "        EIN                                      NAME APPLICATION_TYPE  \\\n",
       "0  10520599              BLUE KNIGHTS MOTORCYCLE CLUB              T10   \n",
       "1  10531628    AMERICAN CHESAPEAKE CLUB CHARITABLE TR               T3   \n",
       "2  10547893        ST CLOUD PROFESSIONAL FIREFIGHTERS               T5   \n",
       "3  10553066            SOUTHSIDE ATHLETIC ASSOCIATION               T3   \n",
       "4  10556103  GENETIC RESEARCH INSTITUTE OF THE DESERT               T3   \n",
       "\n",
       "        AFFILIATION CLASSIFICATION      USE_CASE  ORGANIZATION  STATUS  \\\n",
       "0       Independent          C1000    ProductDev   Association       1   \n",
       "1       Independent          C2000  Preservation  Co-operative       1   \n",
       "2  CompanySponsored          C3000    ProductDev   Association       1   \n",
       "3  CompanySponsored          C2000  Preservation         Trust       1   \n",
       "4       Independent          C1000     Heathcare         Trust       1   \n",
       "\n",
       "      INCOME_AMT SPECIAL_CONSIDERATIONS  ASK_AMT  IS_SUCCESSFUL  \n",
       "0              0                      N     5000              1  \n",
       "1         1-9999                      N   108590              1  \n",
       "2              0                      N     5000              0  \n",
       "3    10000-24999                      N     6692              1  \n",
       "4  100000-499999                      N   142590              1  "
      ],
      "text/html": [
       "<div>\n",
       "<style scoped>\n",
       "    .dataframe tbody tr th:only-of-type {\n",
       "        vertical-align: middle;\n",
       "    }\n",
       "\n",
       "    .dataframe tbody tr th {\n",
       "        vertical-align: top;\n",
       "    }\n",
       "\n",
       "    .dataframe thead th {\n",
       "        text-align: right;\n",
       "    }\n",
       "</style>\n",
       "<table border=\"1\" class=\"dataframe\">\n",
       "  <thead>\n",
       "    <tr style=\"text-align: right;\">\n",
       "      <th></th>\n",
       "      <th>EIN</th>\n",
       "      <th>NAME</th>\n",
       "      <th>APPLICATION_TYPE</th>\n",
       "      <th>AFFILIATION</th>\n",
       "      <th>CLASSIFICATION</th>\n",
       "      <th>USE_CASE</th>\n",
       "      <th>ORGANIZATION</th>\n",
       "      <th>STATUS</th>\n",
       "      <th>INCOME_AMT</th>\n",
       "      <th>SPECIAL_CONSIDERATIONS</th>\n",
       "      <th>ASK_AMT</th>\n",
       "      <th>IS_SUCCESSFUL</th>\n",
       "    </tr>\n",
       "  </thead>\n",
       "  <tbody>\n",
       "    <tr>\n",
       "      <th>0</th>\n",
       "      <td>10520599</td>\n",
       "      <td>BLUE KNIGHTS MOTORCYCLE CLUB</td>\n",
       "      <td>T10</td>\n",
       "      <td>Independent</td>\n",
       "      <td>C1000</td>\n",
       "      <td>ProductDev</td>\n",
       "      <td>Association</td>\n",
       "      <td>1</td>\n",
       "      <td>0</td>\n",
       "      <td>N</td>\n",
       "      <td>5000</td>\n",
       "      <td>1</td>\n",
       "    </tr>\n",
       "    <tr>\n",
       "      <th>1</th>\n",
       "      <td>10531628</td>\n",
       "      <td>AMERICAN CHESAPEAKE CLUB CHARITABLE TR</td>\n",
       "      <td>T3</td>\n",
       "      <td>Independent</td>\n",
       "      <td>C2000</td>\n",
       "      <td>Preservation</td>\n",
       "      <td>Co-operative</td>\n",
       "      <td>1</td>\n",
       "      <td>1-9999</td>\n",
       "      <td>N</td>\n",
       "      <td>108590</td>\n",
       "      <td>1</td>\n",
       "    </tr>\n",
       "    <tr>\n",
       "      <th>2</th>\n",
       "      <td>10547893</td>\n",
       "      <td>ST CLOUD PROFESSIONAL FIREFIGHTERS</td>\n",
       "      <td>T5</td>\n",
       "      <td>CompanySponsored</td>\n",
       "      <td>C3000</td>\n",
       "      <td>ProductDev</td>\n",
       "      <td>Association</td>\n",
       "      <td>1</td>\n",
       "      <td>0</td>\n",
       "      <td>N</td>\n",
       "      <td>5000</td>\n",
       "      <td>0</td>\n",
       "    </tr>\n",
       "    <tr>\n",
       "      <th>3</th>\n",
       "      <td>10553066</td>\n",
       "      <td>SOUTHSIDE ATHLETIC ASSOCIATION</td>\n",
       "      <td>T3</td>\n",
       "      <td>CompanySponsored</td>\n",
       "      <td>C2000</td>\n",
       "      <td>Preservation</td>\n",
       "      <td>Trust</td>\n",
       "      <td>1</td>\n",
       "      <td>10000-24999</td>\n",
       "      <td>N</td>\n",
       "      <td>6692</td>\n",
       "      <td>1</td>\n",
       "    </tr>\n",
       "    <tr>\n",
       "      <th>4</th>\n",
       "      <td>10556103</td>\n",
       "      <td>GENETIC RESEARCH INSTITUTE OF THE DESERT</td>\n",
       "      <td>T3</td>\n",
       "      <td>Independent</td>\n",
       "      <td>C1000</td>\n",
       "      <td>Heathcare</td>\n",
       "      <td>Trust</td>\n",
       "      <td>1</td>\n",
       "      <td>100000-499999</td>\n",
       "      <td>N</td>\n",
       "      <td>142590</td>\n",
       "      <td>1</td>\n",
       "    </tr>\n",
       "  </tbody>\n",
       "</table>\n",
       "</div>"
      ]
     },
     "execution_count": 1,
     "metadata": {},
     "output_type": "execute_result"
    }
   ],
   "execution_count": 1
  },
  {
   "cell_type": "code",
   "metadata": {
    "ExecuteTime": {
     "end_time": "2024-09-09T22:29:51.592180Z",
     "start_time": "2024-09-09T22:29:51.588235Z"
    }
   },
   "source": [
    "# Drop the non-beneficial ID columns, 'EIN' and 'NAME'.\n",
    "application_df = application_df.drop(['EIN','NAME'], axis=1)\n"
   ],
   "outputs": [],
   "execution_count": 2
  },
  {
   "cell_type": "code",
   "metadata": {
    "ExecuteTime": {
     "end_time": "2024-09-09T22:29:51.992937Z",
     "start_time": "2024-09-09T22:29:51.978311Z"
    }
   },
   "source": [
    "# Determine the number of unique values in each column.\n",
    "application_df.nunique()"
   ],
   "outputs": [
    {
     "data": {
      "text/plain": [
       "APPLICATION_TYPE            17\n",
       "AFFILIATION                  6\n",
       "CLASSIFICATION              71\n",
       "USE_CASE                     5\n",
       "ORGANIZATION                 4\n",
       "STATUS                       2\n",
       "INCOME_AMT                   9\n",
       "SPECIAL_CONSIDERATIONS       2\n",
       "ASK_AMT                   8747\n",
       "IS_SUCCESSFUL                2\n",
       "dtype: int64"
      ]
     },
     "execution_count": 3,
     "metadata": {},
     "output_type": "execute_result"
    }
   ],
   "execution_count": 3
  },
  {
   "cell_type": "code",
   "metadata": {
    "ExecuteTime": {
     "end_time": "2024-09-09T22:29:52.378984Z",
     "start_time": "2024-09-09T22:29:52.374169Z"
    }
   },
   "source": [
    "# Look at APPLICATION_TYPE value counts for binning\n",
    "application_counts = application_df[\"APPLICATION_TYPE\"].value_counts()\n",
    "application_counts"
   ],
   "outputs": [
    {
     "data": {
      "text/plain": [
       "APPLICATION_TYPE\n",
       "T3     27037\n",
       "T4      1542\n",
       "T6      1216\n",
       "T5      1173\n",
       "T19     1065\n",
       "T8       737\n",
       "T7       725\n",
       "T10      528\n",
       "T9       156\n",
       "T13       66\n",
       "T12       27\n",
       "T2        16\n",
       "T25        3\n",
       "T14        3\n",
       "T29        2\n",
       "T15        2\n",
       "T17        1\n",
       "Name: count, dtype: int64"
      ]
     },
     "execution_count": 4,
     "metadata": {},
     "output_type": "execute_result"
    }
   ],
   "execution_count": 4
  },
  {
   "cell_type": "code",
   "metadata": {
    "ExecuteTime": {
     "end_time": "2024-09-09T22:29:52.887158Z",
     "start_time": "2024-09-09T22:29:52.868939Z"
    }
   },
   "source": [
    "# Choose a cutoff value and create a list of application types to be replaced\n",
    "# use the variable name `application_types_to_replace`\n",
    "application_types_to_replace = list(application_counts[application_counts <500].index)\n",
    "\n",
    "# Replace in dataframe\n",
    "for app in application_types_to_replace:\n",
    "    application_df['APPLICATION_TYPE'] = application_df['APPLICATION_TYPE'].replace(app,\"Other\")\n",
    "\n",
    "# Check to make sure binning was successful\n",
    "application_df['APPLICATION_TYPE'].value_counts()"
   ],
   "outputs": [
    {
     "data": {
      "text/plain": [
       "APPLICATION_TYPE\n",
       "T3       27037\n",
       "T4        1542\n",
       "T6        1216\n",
       "T5        1173\n",
       "T19       1065\n",
       "T8         737\n",
       "T7         725\n",
       "T10        528\n",
       "Other      276\n",
       "Name: count, dtype: int64"
      ]
     },
     "execution_count": 5,
     "metadata": {},
     "output_type": "execute_result"
    }
   ],
   "execution_count": 5
  },
  {
   "cell_type": "code",
   "metadata": {
    "ExecuteTime": {
     "end_time": "2024-09-09T22:29:53.210759Z",
     "start_time": "2024-09-09T22:29:53.205607Z"
    }
   },
   "source": [
    "# Look at CLASSIFICATION value counts for binning\n",
    "class_counts = application_df['CLASSIFICATION'].value_counts()\n",
    "class_counts"
   ],
   "outputs": [
    {
     "data": {
      "text/plain": [
       "CLASSIFICATION\n",
       "C1000    17326\n",
       "C2000     6074\n",
       "C1200     4837\n",
       "C3000     1918\n",
       "C2100     1883\n",
       "         ...  \n",
       "C4120        1\n",
       "C8210        1\n",
       "C2561        1\n",
       "C4500        1\n",
       "C2150        1\n",
       "Name: count, Length: 71, dtype: int64"
      ]
     },
     "execution_count": 6,
     "metadata": {},
     "output_type": "execute_result"
    }
   ],
   "execution_count": 6
  },
  {
   "cell_type": "code",
   "metadata": {
    "ExecuteTime": {
     "end_time": "2024-09-09T22:29:53.744513Z",
     "start_time": "2024-09-09T22:29:53.740345Z"
    }
   },
   "source": [
    "# You may find it helpful to look at CLASSIFICATION value counts >1\n",
    "class_counts[class_counts>1]"
   ],
   "outputs": [
    {
     "data": {
      "text/plain": [
       "CLASSIFICATION\n",
       "C1000    17326\n",
       "C2000     6074\n",
       "C1200     4837\n",
       "C3000     1918\n",
       "C2100     1883\n",
       "C7000      777\n",
       "C1700      287\n",
       "C4000      194\n",
       "C5000      116\n",
       "C1270      114\n",
       "C2700      104\n",
       "C2800       95\n",
       "C7100       75\n",
       "C1300       58\n",
       "C1280       50\n",
       "C1230       36\n",
       "C1400       34\n",
       "C7200       32\n",
       "C2300       32\n",
       "C1240       30\n",
       "C8000       20\n",
       "C7120       18\n",
       "C1500       16\n",
       "C1800       15\n",
       "C6000       15\n",
       "C1250       14\n",
       "C8200       11\n",
       "C1238       10\n",
       "C1278       10\n",
       "C1235        9\n",
       "C1237        9\n",
       "C7210        7\n",
       "C2400        6\n",
       "C1720        6\n",
       "C4100        6\n",
       "C1257        5\n",
       "C1600        5\n",
       "C1260        3\n",
       "C2710        3\n",
       "C0           3\n",
       "C3200        2\n",
       "C1234        2\n",
       "C1246        2\n",
       "C1267        2\n",
       "C1256        2\n",
       "Name: count, dtype: int64"
      ]
     },
     "execution_count": 7,
     "metadata": {},
     "output_type": "execute_result"
    }
   ],
   "execution_count": 7
  },
  {
   "cell_type": "code",
   "metadata": {
    "ExecuteTime": {
     "end_time": "2024-09-09T22:29:54.257930Z",
     "start_time": "2024-09-09T22:29:54.156911Z"
    }
   },
   "source": [
    "# Choose a cutoff value and create a list of classifications to be replaced\n",
    "# use the variable name `classifications_to_replace`\n",
    "classifications_to_replace = list(class_counts[class_counts <1000].index)\n",
    "\n",
    "# Replace in dataframe\n",
    "for cls in classifications_to_replace:\n",
    "    application_df['CLASSIFICATION'] = application_df['CLASSIFICATION'].replace(cls,\"Other\")\n",
    "    \n",
    "# Check to make sure binning was successful\n",
    "application_df['CLASSIFICATION'].value_counts()"
   ],
   "outputs": [
    {
     "data": {
      "text/plain": [
       "CLASSIFICATION\n",
       "C1000    17326\n",
       "C2000     6074\n",
       "C1200     4837\n",
       "Other     2261\n",
       "C3000     1918\n",
       "C2100     1883\n",
       "Name: count, dtype: int64"
      ]
     },
     "execution_count": 8,
     "metadata": {},
     "output_type": "execute_result"
    }
   ],
   "execution_count": 8
  },
  {
   "cell_type": "code",
   "metadata": {
    "ExecuteTime": {
     "end_time": "2024-09-09T22:29:54.822719Z",
     "start_time": "2024-09-09T22:29:54.798949Z"
    }
   },
   "source": [
    "# Convert categorical data to numeric with `pd.get_dummies`\n",
    "applicationWithDummies = pd.get_dummies(application_df)\n",
    "applicationWithDummies.head()"
   ],
   "outputs": [
    {
     "data": {
      "text/plain": [
       "   STATUS  ASK_AMT  IS_SUCCESSFUL  APPLICATION_TYPE_Other  \\\n",
       "0       1     5000              1                   False   \n",
       "1       1   108590              1                   False   \n",
       "2       1     5000              0                   False   \n",
       "3       1     6692              1                   False   \n",
       "4       1   142590              1                   False   \n",
       "\n",
       "   APPLICATION_TYPE_T10  APPLICATION_TYPE_T19  APPLICATION_TYPE_T3  \\\n",
       "0                  True                 False                False   \n",
       "1                 False                 False                 True   \n",
       "2                 False                 False                False   \n",
       "3                 False                 False                 True   \n",
       "4                 False                 False                 True   \n",
       "\n",
       "   APPLICATION_TYPE_T4  APPLICATION_TYPE_T5  APPLICATION_TYPE_T6  ...  \\\n",
       "0                False                False                False  ...   \n",
       "1                False                False                False  ...   \n",
       "2                False                 True                False  ...   \n",
       "3                False                False                False  ...   \n",
       "4                False                False                False  ...   \n",
       "\n",
       "   INCOME_AMT_1-9999  INCOME_AMT_10000-24999  INCOME_AMT_100000-499999  \\\n",
       "0              False                   False                     False   \n",
       "1               True                   False                     False   \n",
       "2              False                   False                     False   \n",
       "3              False                    True                     False   \n",
       "4              False                   False                      True   \n",
       "\n",
       "   INCOME_AMT_10M-50M  INCOME_AMT_1M-5M  INCOME_AMT_25000-99999  \\\n",
       "0               False             False                   False   \n",
       "1               False             False                   False   \n",
       "2               False             False                   False   \n",
       "3               False             False                   False   \n",
       "4               False             False                   False   \n",
       "\n",
       "   INCOME_AMT_50M+  INCOME_AMT_5M-10M  SPECIAL_CONSIDERATIONS_N  \\\n",
       "0            False              False                      True   \n",
       "1            False              False                      True   \n",
       "2            False              False                      True   \n",
       "3            False              False                      True   \n",
       "4            False              False                      True   \n",
       "\n",
       "   SPECIAL_CONSIDERATIONS_Y  \n",
       "0                     False  \n",
       "1                     False  \n",
       "2                     False  \n",
       "3                     False  \n",
       "4                     False  \n",
       "\n",
       "[5 rows x 44 columns]"
      ],
      "text/html": [
       "<div>\n",
       "<style scoped>\n",
       "    .dataframe tbody tr th:only-of-type {\n",
       "        vertical-align: middle;\n",
       "    }\n",
       "\n",
       "    .dataframe tbody tr th {\n",
       "        vertical-align: top;\n",
       "    }\n",
       "\n",
       "    .dataframe thead th {\n",
       "        text-align: right;\n",
       "    }\n",
       "</style>\n",
       "<table border=\"1\" class=\"dataframe\">\n",
       "  <thead>\n",
       "    <tr style=\"text-align: right;\">\n",
       "      <th></th>\n",
       "      <th>STATUS</th>\n",
       "      <th>ASK_AMT</th>\n",
       "      <th>IS_SUCCESSFUL</th>\n",
       "      <th>APPLICATION_TYPE_Other</th>\n",
       "      <th>APPLICATION_TYPE_T10</th>\n",
       "      <th>APPLICATION_TYPE_T19</th>\n",
       "      <th>APPLICATION_TYPE_T3</th>\n",
       "      <th>APPLICATION_TYPE_T4</th>\n",
       "      <th>APPLICATION_TYPE_T5</th>\n",
       "      <th>APPLICATION_TYPE_T6</th>\n",
       "      <th>...</th>\n",
       "      <th>INCOME_AMT_1-9999</th>\n",
       "      <th>INCOME_AMT_10000-24999</th>\n",
       "      <th>INCOME_AMT_100000-499999</th>\n",
       "      <th>INCOME_AMT_10M-50M</th>\n",
       "      <th>INCOME_AMT_1M-5M</th>\n",
       "      <th>INCOME_AMT_25000-99999</th>\n",
       "      <th>INCOME_AMT_50M+</th>\n",
       "      <th>INCOME_AMT_5M-10M</th>\n",
       "      <th>SPECIAL_CONSIDERATIONS_N</th>\n",
       "      <th>SPECIAL_CONSIDERATIONS_Y</th>\n",
       "    </tr>\n",
       "  </thead>\n",
       "  <tbody>\n",
       "    <tr>\n",
       "      <th>0</th>\n",
       "      <td>1</td>\n",
       "      <td>5000</td>\n",
       "      <td>1</td>\n",
       "      <td>False</td>\n",
       "      <td>True</td>\n",
       "      <td>False</td>\n",
       "      <td>False</td>\n",
       "      <td>False</td>\n",
       "      <td>False</td>\n",
       "      <td>False</td>\n",
       "      <td>...</td>\n",
       "      <td>False</td>\n",
       "      <td>False</td>\n",
       "      <td>False</td>\n",
       "      <td>False</td>\n",
       "      <td>False</td>\n",
       "      <td>False</td>\n",
       "      <td>False</td>\n",
       "      <td>False</td>\n",
       "      <td>True</td>\n",
       "      <td>False</td>\n",
       "    </tr>\n",
       "    <tr>\n",
       "      <th>1</th>\n",
       "      <td>1</td>\n",
       "      <td>108590</td>\n",
       "      <td>1</td>\n",
       "      <td>False</td>\n",
       "      <td>False</td>\n",
       "      <td>False</td>\n",
       "      <td>True</td>\n",
       "      <td>False</td>\n",
       "      <td>False</td>\n",
       "      <td>False</td>\n",
       "      <td>...</td>\n",
       "      <td>True</td>\n",
       "      <td>False</td>\n",
       "      <td>False</td>\n",
       "      <td>False</td>\n",
       "      <td>False</td>\n",
       "      <td>False</td>\n",
       "      <td>False</td>\n",
       "      <td>False</td>\n",
       "      <td>True</td>\n",
       "      <td>False</td>\n",
       "    </tr>\n",
       "    <tr>\n",
       "      <th>2</th>\n",
       "      <td>1</td>\n",
       "      <td>5000</td>\n",
       "      <td>0</td>\n",
       "      <td>False</td>\n",
       "      <td>False</td>\n",
       "      <td>False</td>\n",
       "      <td>False</td>\n",
       "      <td>False</td>\n",
       "      <td>True</td>\n",
       "      <td>False</td>\n",
       "      <td>...</td>\n",
       "      <td>False</td>\n",
       "      <td>False</td>\n",
       "      <td>False</td>\n",
       "      <td>False</td>\n",
       "      <td>False</td>\n",
       "      <td>False</td>\n",
       "      <td>False</td>\n",
       "      <td>False</td>\n",
       "      <td>True</td>\n",
       "      <td>False</td>\n",
       "    </tr>\n",
       "    <tr>\n",
       "      <th>3</th>\n",
       "      <td>1</td>\n",
       "      <td>6692</td>\n",
       "      <td>1</td>\n",
       "      <td>False</td>\n",
       "      <td>False</td>\n",
       "      <td>False</td>\n",
       "      <td>True</td>\n",
       "      <td>False</td>\n",
       "      <td>False</td>\n",
       "      <td>False</td>\n",
       "      <td>...</td>\n",
       "      <td>False</td>\n",
       "      <td>True</td>\n",
       "      <td>False</td>\n",
       "      <td>False</td>\n",
       "      <td>False</td>\n",
       "      <td>False</td>\n",
       "      <td>False</td>\n",
       "      <td>False</td>\n",
       "      <td>True</td>\n",
       "      <td>False</td>\n",
       "    </tr>\n",
       "    <tr>\n",
       "      <th>4</th>\n",
       "      <td>1</td>\n",
       "      <td>142590</td>\n",
       "      <td>1</td>\n",
       "      <td>False</td>\n",
       "      <td>False</td>\n",
       "      <td>False</td>\n",
       "      <td>True</td>\n",
       "      <td>False</td>\n",
       "      <td>False</td>\n",
       "      <td>False</td>\n",
       "      <td>...</td>\n",
       "      <td>False</td>\n",
       "      <td>False</td>\n",
       "      <td>True</td>\n",
       "      <td>False</td>\n",
       "      <td>False</td>\n",
       "      <td>False</td>\n",
       "      <td>False</td>\n",
       "      <td>False</td>\n",
       "      <td>True</td>\n",
       "      <td>False</td>\n",
       "    </tr>\n",
       "  </tbody>\n",
       "</table>\n",
       "<p>5 rows × 44 columns</p>\n",
       "</div>"
      ]
     },
     "execution_count": 9,
     "metadata": {},
     "output_type": "execute_result"
    }
   ],
   "execution_count": 9
  },
  {
   "cell_type": "code",
   "metadata": {
    "ExecuteTime": {
     "end_time": "2024-09-09T22:29:55.482082Z",
     "start_time": "2024-09-09T22:29:55.457011Z"
    }
   },
   "source": [
    "# Split our preprocessed data into our features and target arrays\n",
    "X = applicationWithDummies.drop('IS_SUCCESSFUL', axis='columns').values\n",
    "y = applicationWithDummies['IS_SUCCESSFUL'].values\n",
    "\n",
    "# Split the preprocessed data into a training and testing dataset\n",
    "X_train, X_test, y_train, y_test = train_test_split(X, y)"
   ],
   "outputs": [],
   "execution_count": 10
  },
  {
   "cell_type": "code",
   "metadata": {
    "ExecuteTime": {
     "end_time": "2024-09-09T22:29:56.115805Z",
     "start_time": "2024-09-09T22:29:56.047813Z"
    }
   },
   "source": [
    "# Create a StandardScaler instances\n",
    "scaler = StandardScaler()\n",
    "\n",
    "# Fit the StandardScaler\n",
    "X_scaler = scaler.fit(X_train)\n",
    "\n",
    "# Scale the data\n",
    "X_train_scaled = X_scaler.transform(X_train)\n",
    "X_test_scaled = X_scaler.transform(X_test)"
   ],
   "outputs": [],
   "execution_count": 11
  },
  {
   "cell_type": "markdown",
   "metadata": {},
   "source": [
    "## Compile, Train and Evaluate the Model"
   ]
  },
  {
   "cell_type": "code",
   "metadata": {
    "ExecuteTime": {
     "end_time": "2024-09-09T22:41:00.985093Z",
     "start_time": "2024-09-09T22:41:00.958877Z"
    }
   },
   "source": [
    "# Define the model - deep neural net, i.e., the number of input features and hidden nodes for each layer.\n",
    "numberInputFeatures = len(X_train[0])\n",
    "layerNodes = 100\n",
    "layerNodes2 = 30\n",
    "\n",
    "nn = tf.keras.models.Sequential()\n",
    "\n",
    "# First hidden layer\n",
    "nn.add(\n",
    "    tf.keras.layers.Dense(units=layerNodes, input_dim=numberInputFeatures, activation='relu')\n",
    ")\n",
    "\n",
    "# Second hidden layer\n",
    "nn.add(\n",
    "    tf.keras.layers.Dense(units=layerNodes2, input_dim=numberInputFeatures, activation='relu')\n",
    ")\n",
    "\n",
    "# Output layer\n",
    "nn.add(\n",
    "    tf.keras.layers.Dense(units=1, input_dim=numberInputFeatures, activation='sigmoid')\n",
    ")\n",
    "\n",
    "# Check the structure of the model\n",
    "nn.summary()"
   ],
   "outputs": [
    {
     "name": "stderr",
     "output_type": "stream",
     "text": [
      "C:\\Users\\nolan\\AppData\\Local\\Programs\\Python\\Python312\\Lib\\site-packages\\keras\\src\\layers\\core\\dense.py:87: UserWarning: Do not pass an `input_shape`/`input_dim` argument to a layer. When using Sequential models, prefer using an `Input(shape)` object as the first layer in the model instead.\n",
      "  super().__init__(activity_regularizer=activity_regularizer, **kwargs)\n"
     ]
    },
    {
     "data": {
      "text/plain": [
       "\u001B[1mModel: \"sequential_4\"\u001B[0m\n"
      ],
      "text/html": [
       "<pre style=\"white-space:pre;overflow-x:auto;line-height:normal;font-family:Menlo,'DejaVu Sans Mono',consolas,'Courier New',monospace\"><span style=\"font-weight: bold\">Model: \"sequential_4\"</span>\n",
       "</pre>\n"
      ]
     },
     "metadata": {},
     "output_type": "display_data"
    },
    {
     "data": {
      "text/plain": [
       "┏━━━━━━━━━━━━━━━━━━━━━━━━━━━━━━━━━┳━━━━━━━━━━━━━━━━━━━━━━━━┳━━━━━━━━━━━━━━━┓\n",
       "┃\u001B[1m \u001B[0m\u001B[1mLayer (type)                   \u001B[0m\u001B[1m \u001B[0m┃\u001B[1m \u001B[0m\u001B[1mOutput Shape          \u001B[0m\u001B[1m \u001B[0m┃\u001B[1m \u001B[0m\u001B[1m      Param #\u001B[0m\u001B[1m \u001B[0m┃\n",
       "┡━━━━━━━━━━━━━━━━━━━━━━━━━━━━━━━━━╇━━━━━━━━━━━━━━━━━━━━━━━━╇━━━━━━━━━━━━━━━┩\n",
       "│ dense_12 (\u001B[38;5;33mDense\u001B[0m)                │ (\u001B[38;5;45mNone\u001B[0m, \u001B[38;5;34m100\u001B[0m)            │         \u001B[38;5;34m4,400\u001B[0m │\n",
       "├─────────────────────────────────┼────────────────────────┼───────────────┤\n",
       "│ dense_13 (\u001B[38;5;33mDense\u001B[0m)                │ (\u001B[38;5;45mNone\u001B[0m, \u001B[38;5;34m30\u001B[0m)             │         \u001B[38;5;34m3,030\u001B[0m │\n",
       "├─────────────────────────────────┼────────────────────────┼───────────────┤\n",
       "│ dense_14 (\u001B[38;5;33mDense\u001B[0m)                │ (\u001B[38;5;45mNone\u001B[0m, \u001B[38;5;34m1\u001B[0m)              │            \u001B[38;5;34m31\u001B[0m │\n",
       "└─────────────────────────────────┴────────────────────────┴───────────────┘\n"
      ],
      "text/html": [
       "<pre style=\"white-space:pre;overflow-x:auto;line-height:normal;font-family:Menlo,'DejaVu Sans Mono',consolas,'Courier New',monospace\">┏━━━━━━━━━━━━━━━━━━━━━━━━━━━━━━━━━┳━━━━━━━━━━━━━━━━━━━━━━━━┳━━━━━━━━━━━━━━━┓\n",
       "┃<span style=\"font-weight: bold\"> Layer (type)                    </span>┃<span style=\"font-weight: bold\"> Output Shape           </span>┃<span style=\"font-weight: bold\">       Param # </span>┃\n",
       "┡━━━━━━━━━━━━━━━━━━━━━━━━━━━━━━━━━╇━━━━━━━━━━━━━━━━━━━━━━━━╇━━━━━━━━━━━━━━━┩\n",
       "│ dense_12 (<span style=\"color: #0087ff; text-decoration-color: #0087ff\">Dense</span>)                │ (<span style=\"color: #00d7ff; text-decoration-color: #00d7ff\">None</span>, <span style=\"color: #00af00; text-decoration-color: #00af00\">100</span>)            │         <span style=\"color: #00af00; text-decoration-color: #00af00\">4,400</span> │\n",
       "├─────────────────────────────────┼────────────────────────┼───────────────┤\n",
       "│ dense_13 (<span style=\"color: #0087ff; text-decoration-color: #0087ff\">Dense</span>)                │ (<span style=\"color: #00d7ff; text-decoration-color: #00d7ff\">None</span>, <span style=\"color: #00af00; text-decoration-color: #00af00\">30</span>)             │         <span style=\"color: #00af00; text-decoration-color: #00af00\">3,030</span> │\n",
       "├─────────────────────────────────┼────────────────────────┼───────────────┤\n",
       "│ dense_14 (<span style=\"color: #0087ff; text-decoration-color: #0087ff\">Dense</span>)                │ (<span style=\"color: #00d7ff; text-decoration-color: #00d7ff\">None</span>, <span style=\"color: #00af00; text-decoration-color: #00af00\">1</span>)              │            <span style=\"color: #00af00; text-decoration-color: #00af00\">31</span> │\n",
       "└─────────────────────────────────┴────────────────────────┴───────────────┘\n",
       "</pre>\n"
      ]
     },
     "metadata": {},
     "output_type": "display_data"
    },
    {
     "data": {
      "text/plain": [
       "\u001B[1m Total params: \u001B[0m\u001B[38;5;34m7,461\u001B[0m (29.14 KB)\n"
      ],
      "text/html": [
       "<pre style=\"white-space:pre;overflow-x:auto;line-height:normal;font-family:Menlo,'DejaVu Sans Mono',consolas,'Courier New',monospace\"><span style=\"font-weight: bold\"> Total params: </span><span style=\"color: #00af00; text-decoration-color: #00af00\">7,461</span> (29.14 KB)\n",
       "</pre>\n"
      ]
     },
     "metadata": {},
     "output_type": "display_data"
    },
    {
     "data": {
      "text/plain": [
       "\u001B[1m Trainable params: \u001B[0m\u001B[38;5;34m7,461\u001B[0m (29.14 KB)\n"
      ],
      "text/html": [
       "<pre style=\"white-space:pre;overflow-x:auto;line-height:normal;font-family:Menlo,'DejaVu Sans Mono',consolas,'Courier New',monospace\"><span style=\"font-weight: bold\"> Trainable params: </span><span style=\"color: #00af00; text-decoration-color: #00af00\">7,461</span> (29.14 KB)\n",
       "</pre>\n"
      ]
     },
     "metadata": {},
     "output_type": "display_data"
    },
    {
     "data": {
      "text/plain": [
       "\u001B[1m Non-trainable params: \u001B[0m\u001B[38;5;34m0\u001B[0m (0.00 B)\n"
      ],
      "text/html": [
       "<pre style=\"white-space:pre;overflow-x:auto;line-height:normal;font-family:Menlo,'DejaVu Sans Mono',consolas,'Courier New',monospace\"><span style=\"font-weight: bold\"> Non-trainable params: </span><span style=\"color: #00af00; text-decoration-color: #00af00\">0</span> (0.00 B)\n",
       "</pre>\n"
      ]
     },
     "metadata": {},
     "output_type": "display_data"
    }
   ],
   "execution_count": 27
  },
  {
   "cell_type": "code",
   "metadata": {
    "ExecuteTime": {
     "end_time": "2024-09-09T22:41:02.650739Z",
     "start_time": "2024-09-09T22:41:02.646037Z"
    }
   },
   "source": [
    "# Compile the model\n",
    "nn.compile(optimizer='adam', loss='binary_crossentropy', metrics=['accuracy'])"
   ],
   "outputs": [],
   "execution_count": 28
  },
  {
   "cell_type": "code",
   "metadata": {
    "ExecuteTime": {
     "end_time": "2024-09-09T22:42:18.961881Z",
     "start_time": "2024-09-09T22:41:03.631041Z"
    }
   },
   "source": [
    "# Train the model\n",
    "fit_model = nn.fit(X_train_scaled, y_train, epochs=200)"
   ],
   "outputs": [
    {
     "name": "stdout",
     "output_type": "stream",
     "text": [
      "Epoch 1/200\n",
      "\u001B[1m804/804\u001B[0m \u001B[32m━━━━━━━━━━━━━━━━━━━━\u001B[0m\u001B[37m\u001B[0m \u001B[1m1s\u001B[0m 433us/step - accuracy: 0.6572 - loss: 1.6480\n",
      "Epoch 2/200\n",
      "\u001B[1m804/804\u001B[0m \u001B[32m━━━━━━━━━━━━━━━━━━━━\u001B[0m\u001B[37m\u001B[0m \u001B[1m0s\u001B[0m 438us/step - accuracy: 0.7085 - loss: 1.0853\n",
      "Epoch 3/200\n",
      "\u001B[1m804/804\u001B[0m \u001B[32m━━━━━━━━━━━━━━━━━━━━\u001B[0m\u001B[37m\u001B[0m \u001B[1m0s\u001B[0m 442us/step - accuracy: 0.7073 - loss: 1.0682\n",
      "Epoch 4/200\n",
      "\u001B[1m804/804\u001B[0m \u001B[32m━━━━━━━━━━━━━━━━━━━━\u001B[0m\u001B[37m\u001B[0m \u001B[1m0s\u001B[0m 429us/step - accuracy: 0.6573 - loss: 1.6597\n",
      "Epoch 5/200\n",
      "\u001B[1m804/804\u001B[0m \u001B[32m━━━━━━━━━━━━━━━━━━━━\u001B[0m\u001B[37m\u001B[0m \u001B[1m0s\u001B[0m 430us/step - accuracy: 0.6651 - loss: 1.6183\n",
      "Epoch 6/200\n",
      "\u001B[1m804/804\u001B[0m \u001B[32m━━━━━━━━━━━━━━━━━━━━\u001B[0m\u001B[37m\u001B[0m \u001B[1m0s\u001B[0m 428us/step - accuracy: 0.6881 - loss: 1.4282\n",
      "Epoch 7/200\n",
      "\u001B[1m804/804\u001B[0m \u001B[32m━━━━━━━━━━━━━━━━━━━━\u001B[0m\u001B[37m\u001B[0m \u001B[1m0s\u001B[0m 428us/step - accuracy: 0.6970 - loss: 1.3290\n",
      "Epoch 8/200\n",
      "\u001B[1m804/804\u001B[0m \u001B[32m━━━━━━━━━━━━━━━━━━━━\u001B[0m\u001B[37m\u001B[0m \u001B[1m0s\u001B[0m 434us/step - accuracy: 0.7020 - loss: 1.1523\n",
      "Epoch 9/200\n",
      "\u001B[1m804/804\u001B[0m \u001B[32m━━━━━━━━━━━━━━━━━━━━\u001B[0m\u001B[37m\u001B[0m \u001B[1m0s\u001B[0m 430us/step - accuracy: 0.7093 - loss: 0.7468\n",
      "Epoch 10/200\n",
      "\u001B[1m804/804\u001B[0m \u001B[32m━━━━━━━━━━━━━━━━━━━━\u001B[0m\u001B[37m\u001B[0m \u001B[1m0s\u001B[0m 425us/step - accuracy: 0.7050 - loss: 0.8442\n",
      "Epoch 11/200\n",
      "\u001B[1m804/804\u001B[0m \u001B[32m━━━━━━━━━━━━━━━━━━━━\u001B[0m\u001B[37m\u001B[0m \u001B[1m0s\u001B[0m 437us/step - accuracy: 0.7185 - loss: 0.8294\n",
      "Epoch 12/200\n",
      "\u001B[1m804/804\u001B[0m \u001B[32m━━━━━━━━━━━━━━━━━━━━\u001B[0m\u001B[37m\u001B[0m \u001B[1m0s\u001B[0m 425us/step - accuracy: 0.7207 - loss: 0.9027\n",
      "Epoch 13/200\n",
      "\u001B[1m804/804\u001B[0m \u001B[32m━━━━━━━━━━━━━━━━━━━━\u001B[0m\u001B[37m\u001B[0m \u001B[1m0s\u001B[0m 429us/step - accuracy: 0.7199 - loss: 0.7442\n",
      "Epoch 14/200\n",
      "\u001B[1m804/804\u001B[0m \u001B[32m━━━━━━━━━━━━━━━━━━━━\u001B[0m\u001B[37m\u001B[0m \u001B[1m0s\u001B[0m 442us/step - accuracy: 0.7280 - loss: 0.6603\n",
      "Epoch 15/200\n",
      "\u001B[1m804/804\u001B[0m \u001B[32m━━━━━━━━━━━━━━━━━━━━\u001B[0m\u001B[37m\u001B[0m \u001B[1m0s\u001B[0m 430us/step - accuracy: 0.7253 - loss: 0.6255\n",
      "Epoch 16/200\n",
      "\u001B[1m804/804\u001B[0m \u001B[32m━━━━━━━━━━━━━━━━━━━━\u001B[0m\u001B[37m\u001B[0m \u001B[1m0s\u001B[0m 428us/step - accuracy: 0.7290 - loss: 0.6111\n",
      "Epoch 17/200\n",
      "\u001B[1m804/804\u001B[0m \u001B[32m━━━━━━━━━━━━━━━━━━━━\u001B[0m\u001B[37m\u001B[0m \u001B[1m0s\u001B[0m 462us/step - accuracy: 0.7308 - loss: 0.6039\n",
      "Epoch 18/200\n",
      "\u001B[1m804/804\u001B[0m \u001B[32m━━━━━━━━━━━━━━━━━━━━\u001B[0m\u001B[37m\u001B[0m \u001B[1m0s\u001B[0m 433us/step - accuracy: 0.7288 - loss: 0.5861\n",
      "Epoch 19/200\n",
      "\u001B[1m804/804\u001B[0m \u001B[32m━━━━━━━━━━━━━━━━━━━━\u001B[0m\u001B[37m\u001B[0m \u001B[1m0s\u001B[0m 444us/step - accuracy: 0.7331 - loss: 0.6013\n",
      "Epoch 20/200\n",
      "\u001B[1m804/804\u001B[0m \u001B[32m━━━━━━━━━━━━━━━━━━━━\u001B[0m\u001B[37m\u001B[0m \u001B[1m0s\u001B[0m 435us/step - accuracy: 0.7284 - loss: 0.5845\n",
      "Epoch 21/200\n",
      "\u001B[1m804/804\u001B[0m \u001B[32m━━━━━━━━━━━━━━━━━━━━\u001B[0m\u001B[37m\u001B[0m \u001B[1m0s\u001B[0m 435us/step - accuracy: 0.7332 - loss: 0.5751\n",
      "Epoch 22/200\n",
      "\u001B[1m804/804\u001B[0m \u001B[32m━━━━━━━━━━━━━━━━━━━━\u001B[0m\u001B[37m\u001B[0m \u001B[1m0s\u001B[0m 448us/step - accuracy: 0.7283 - loss: 0.5722\n",
      "Epoch 23/200\n",
      "\u001B[1m804/804\u001B[0m \u001B[32m━━━━━━━━━━━━━━━━━━━━\u001B[0m\u001B[37m\u001B[0m \u001B[1m0s\u001B[0m 436us/step - accuracy: 0.7310 - loss: 0.5734\n",
      "Epoch 24/200\n",
      "\u001B[1m804/804\u001B[0m \u001B[32m━━━━━━━━━━━━━━━━━━━━\u001B[0m\u001B[37m\u001B[0m \u001B[1m0s\u001B[0m 433us/step - accuracy: 0.7346 - loss: 0.5750\n",
      "Epoch 25/200\n",
      "\u001B[1m804/804\u001B[0m \u001B[32m━━━━━━━━━━━━━━━━━━━━\u001B[0m\u001B[37m\u001B[0m \u001B[1m0s\u001B[0m 452us/step - accuracy: 0.7320 - loss: 0.5804\n",
      "Epoch 26/200\n",
      "\u001B[1m804/804\u001B[0m \u001B[32m━━━━━━━━━━━━━━━━━━━━\u001B[0m\u001B[37m\u001B[0m \u001B[1m0s\u001B[0m 442us/step - accuracy: 0.7288 - loss: 0.5683\n",
      "Epoch 27/200\n",
      "\u001B[1m804/804\u001B[0m \u001B[32m━━━━━━━━━━━━━━━━━━━━\u001B[0m\u001B[37m\u001B[0m \u001B[1m0s\u001B[0m 447us/step - accuracy: 0.7330 - loss: 0.5708\n",
      "Epoch 28/200\n",
      "\u001B[1m804/804\u001B[0m \u001B[32m━━━━━━━━━━━━━━━━━━━━\u001B[0m\u001B[37m\u001B[0m \u001B[1m0s\u001B[0m 445us/step - accuracy: 0.7337 - loss: 0.5713\n",
      "Epoch 29/200\n",
      "\u001B[1m804/804\u001B[0m \u001B[32m━━━━━━━━━━━━━━━━━━━━\u001B[0m\u001B[37m\u001B[0m \u001B[1m0s\u001B[0m 437us/step - accuracy: 0.7351 - loss: 0.5642\n",
      "Epoch 30/200\n",
      "\u001B[1m804/804\u001B[0m \u001B[32m━━━━━━━━━━━━━━━━━━━━\u001B[0m\u001B[37m\u001B[0m \u001B[1m0s\u001B[0m 455us/step - accuracy: 0.7324 - loss: 0.5733\n",
      "Epoch 31/200\n",
      "\u001B[1m804/804\u001B[0m \u001B[32m━━━━━━━━━━━━━━━━━━━━\u001B[0m\u001B[37m\u001B[0m \u001B[1m0s\u001B[0m 460us/step - accuracy: 0.7335 - loss: 0.5690\n",
      "Epoch 32/200\n",
      "\u001B[1m804/804\u001B[0m \u001B[32m━━━━━━━━━━━━━━━━━━━━\u001B[0m\u001B[37m\u001B[0m \u001B[1m0s\u001B[0m 448us/step - accuracy: 0.7396 - loss: 0.5671\n",
      "Epoch 33/200\n",
      "\u001B[1m804/804\u001B[0m \u001B[32m━━━━━━━━━━━━━━━━━━━━\u001B[0m\u001B[37m\u001B[0m \u001B[1m0s\u001B[0m 442us/step - accuracy: 0.7317 - loss: 0.5724\n",
      "Epoch 34/200\n",
      "\u001B[1m804/804\u001B[0m \u001B[32m━━━━━━━━━━━━━━━━━━━━\u001B[0m\u001B[37m\u001B[0m \u001B[1m0s\u001B[0m 446us/step - accuracy: 0.7347 - loss: 0.5744\n",
      "Epoch 35/200\n",
      "\u001B[1m804/804\u001B[0m \u001B[32m━━━━━━━━━━━━━━━━━━━━\u001B[0m\u001B[37m\u001B[0m \u001B[1m0s\u001B[0m 453us/step - accuracy: 0.7369 - loss: 0.5739\n",
      "Epoch 36/200\n",
      "\u001B[1m804/804\u001B[0m \u001B[32m━━━━━━━━━━━━━━━━━━━━\u001B[0m\u001B[37m\u001B[0m \u001B[1m0s\u001B[0m 474us/step - accuracy: 0.7296 - loss: 0.5836\n",
      "Epoch 37/200\n",
      "\u001B[1m804/804\u001B[0m \u001B[32m━━━━━━━━━━━━━━━━━━━━\u001B[0m\u001B[37m\u001B[0m \u001B[1m0s\u001B[0m 457us/step - accuracy: 0.7259 - loss: 0.5770\n",
      "Epoch 38/200\n",
      "\u001B[1m804/804\u001B[0m \u001B[32m━━━━━━━━━━━━━━━━━━━━\u001B[0m\u001B[37m\u001B[0m \u001B[1m0s\u001B[0m 458us/step - accuracy: 0.7375 - loss: 0.5659\n",
      "Epoch 39/200\n",
      "\u001B[1m804/804\u001B[0m \u001B[32m━━━━━━━━━━━━━━━━━━━━\u001B[0m\u001B[37m\u001B[0m \u001B[1m0s\u001B[0m 452us/step - accuracy: 0.7301 - loss: 0.5645\n",
      "Epoch 40/200\n",
      "\u001B[1m804/804\u001B[0m \u001B[32m━━━━━━━━━━━━━━━━━━━━\u001B[0m\u001B[37m\u001B[0m \u001B[1m0s\u001B[0m 450us/step - accuracy: 0.7309 - loss: 0.5665\n",
      "Epoch 41/200\n",
      "\u001B[1m804/804\u001B[0m \u001B[32m━━━━━━━━━━━━━━━━━━━━\u001B[0m\u001B[37m\u001B[0m \u001B[1m0s\u001B[0m 432us/step - accuracy: 0.7301 - loss: 0.5751\n",
      "Epoch 42/200\n",
      "\u001B[1m804/804\u001B[0m \u001B[32m━━━━━━━━━━━━━━━━━━━━\u001B[0m\u001B[37m\u001B[0m \u001B[1m0s\u001B[0m 463us/step - accuracy: 0.7312 - loss: 0.5650\n",
      "Epoch 43/200\n",
      "\u001B[1m804/804\u001B[0m \u001B[32m━━━━━━━━━━━━━━━━━━━━\u001B[0m\u001B[37m\u001B[0m \u001B[1m0s\u001B[0m 458us/step - accuracy: 0.7333 - loss: 0.5631\n",
      "Epoch 44/200\n",
      "\u001B[1m804/804\u001B[0m \u001B[32m━━━━━━━━━━━━━━━━━━━━\u001B[0m\u001B[37m\u001B[0m \u001B[1m0s\u001B[0m 437us/step - accuracy: 0.7399 - loss: 0.5557\n",
      "Epoch 45/200\n",
      "\u001B[1m804/804\u001B[0m \u001B[32m━━━━━━━━━━━━━━━━━━━━\u001B[0m\u001B[37m\u001B[0m \u001B[1m0s\u001B[0m 431us/step - accuracy: 0.7357 - loss: 0.5617\n",
      "Epoch 46/200\n",
      "\u001B[1m804/804\u001B[0m \u001B[32m━━━━━━━━━━━━━━━━━━━━\u001B[0m\u001B[37m\u001B[0m \u001B[1m0s\u001B[0m 446us/step - accuracy: 0.7352 - loss: 0.5579\n",
      "Epoch 47/200\n",
      "\u001B[1m804/804\u001B[0m \u001B[32m━━━━━━━━━━━━━━━━━━━━\u001B[0m\u001B[37m\u001B[0m \u001B[1m0s\u001B[0m 432us/step - accuracy: 0.7350 - loss: 0.5641\n",
      "Epoch 48/200\n",
      "\u001B[1m804/804\u001B[0m \u001B[32m━━━━━━━━━━━━━━━━━━━━\u001B[0m\u001B[37m\u001B[0m \u001B[1m0s\u001B[0m 445us/step - accuracy: 0.7319 - loss: 0.5773\n",
      "Epoch 49/200\n",
      "\u001B[1m804/804\u001B[0m \u001B[32m━━━━━━━━━━━━━━━━━━━━\u001B[0m\u001B[37m\u001B[0m \u001B[1m0s\u001B[0m 433us/step - accuracy: 0.7403 - loss: 0.5559\n",
      "Epoch 50/200\n",
      "\u001B[1m804/804\u001B[0m \u001B[32m━━━━━━━━━━━━━━━━━━━━\u001B[0m\u001B[37m\u001B[0m \u001B[1m0s\u001B[0m 433us/step - accuracy: 0.7295 - loss: 0.5663\n",
      "Epoch 51/200\n",
      "\u001B[1m804/804\u001B[0m \u001B[32m━━━━━━━━━━━━━━━━━━━━\u001B[0m\u001B[37m\u001B[0m \u001B[1m0s\u001B[0m 441us/step - accuracy: 0.7347 - loss: 0.5618\n",
      "Epoch 52/200\n",
      "\u001B[1m804/804\u001B[0m \u001B[32m━━━━━━━━━━━━━━━━━━━━\u001B[0m\u001B[37m\u001B[0m \u001B[1m0s\u001B[0m 430us/step - accuracy: 0.7352 - loss: 0.5770\n",
      "Epoch 53/200\n",
      "\u001B[1m804/804\u001B[0m \u001B[32m━━━━━━━━━━━━━━━━━━━━\u001B[0m\u001B[37m\u001B[0m \u001B[1m0s\u001B[0m 429us/step - accuracy: 0.7367 - loss: 0.5676\n",
      "Epoch 54/200\n",
      "\u001B[1m804/804\u001B[0m \u001B[32m━━━━━━━━━━━━━━━━━━━━\u001B[0m\u001B[37m\u001B[0m \u001B[1m0s\u001B[0m 443us/step - accuracy: 0.7326 - loss: 0.5613\n",
      "Epoch 55/200\n",
      "\u001B[1m804/804\u001B[0m \u001B[32m━━━━━━━━━━━━━━━━━━━━\u001B[0m\u001B[37m\u001B[0m \u001B[1m0s\u001B[0m 442us/step - accuracy: 0.7324 - loss: 0.5767\n",
      "Epoch 56/200\n",
      "\u001B[1m804/804\u001B[0m \u001B[32m━━━━━━━━━━━━━━━━━━━━\u001B[0m\u001B[37m\u001B[0m \u001B[1m0s\u001B[0m 432us/step - accuracy: 0.7387 - loss: 0.5754\n",
      "Epoch 57/200\n",
      "\u001B[1m804/804\u001B[0m \u001B[32m━━━━━━━━━━━━━━━━━━━━\u001B[0m\u001B[37m\u001B[0m \u001B[1m0s\u001B[0m 454us/step - accuracy: 0.7368 - loss: 0.5591\n",
      "Epoch 58/200\n",
      "\u001B[1m804/804\u001B[0m \u001B[32m━━━━━━━━━━━━━━━━━━━━\u001B[0m\u001B[37m\u001B[0m \u001B[1m0s\u001B[0m 434us/step - accuracy: 0.7330 - loss: 0.5656\n",
      "Epoch 59/200\n",
      "\u001B[1m804/804\u001B[0m \u001B[32m━━━━━━━━━━━━━━━━━━━━\u001B[0m\u001B[37m\u001B[0m \u001B[1m0s\u001B[0m 447us/step - accuracy: 0.7371 - loss: 0.5797\n",
      "Epoch 60/200\n",
      "\u001B[1m804/804\u001B[0m \u001B[32m━━━━━━━━━━━━━━━━━━━━\u001B[0m\u001B[37m\u001B[0m \u001B[1m0s\u001B[0m 446us/step - accuracy: 0.7347 - loss: 0.5813\n",
      "Epoch 61/200\n",
      "\u001B[1m804/804\u001B[0m \u001B[32m━━━━━━━━━━━━━━━━━━━━\u001B[0m\u001B[37m\u001B[0m \u001B[1m0s\u001B[0m 434us/step - accuracy: 0.7339 - loss: 0.5591\n",
      "Epoch 62/200\n",
      "\u001B[1m804/804\u001B[0m \u001B[32m━━━━━━━━━━━━━━━━━━━━\u001B[0m\u001B[37m\u001B[0m \u001B[1m0s\u001B[0m 448us/step - accuracy: 0.7368 - loss: 0.5573\n",
      "Epoch 63/200\n",
      "\u001B[1m804/804\u001B[0m \u001B[32m━━━━━━━━━━━━━━━━━━━━\u001B[0m\u001B[37m\u001B[0m \u001B[1m0s\u001B[0m 432us/step - accuracy: 0.7350 - loss: 0.5668\n",
      "Epoch 64/200\n",
      "\u001B[1m804/804\u001B[0m \u001B[32m━━━━━━━━━━━━━━━━━━━━\u001B[0m\u001B[37m\u001B[0m \u001B[1m0s\u001B[0m 437us/step - accuracy: 0.7376 - loss: 0.5607\n",
      "Epoch 65/200\n",
      "\u001B[1m804/804\u001B[0m \u001B[32m━━━━━━━━━━━━━━━━━━━━\u001B[0m\u001B[37m\u001B[0m \u001B[1m0s\u001B[0m 441us/step - accuracy: 0.7364 - loss: 0.5550\n",
      "Epoch 66/200\n",
      "\u001B[1m804/804\u001B[0m \u001B[32m━━━━━━━━━━━━━━━━━━━━\u001B[0m\u001B[37m\u001B[0m \u001B[1m0s\u001B[0m 438us/step - accuracy: 0.7381 - loss: 0.5605\n",
      "Epoch 67/200\n",
      "\u001B[1m804/804\u001B[0m \u001B[32m━━━━━━━━━━━━━━━━━━━━\u001B[0m\u001B[37m\u001B[0m \u001B[1m0s\u001B[0m 446us/step - accuracy: 0.7387 - loss: 0.5617\n",
      "Epoch 68/200\n",
      "\u001B[1m804/804\u001B[0m \u001B[32m━━━━━━━━━━━━━━━━━━━━\u001B[0m\u001B[37m\u001B[0m \u001B[1m0s\u001B[0m 448us/step - accuracy: 0.7384 - loss: 0.5607\n",
      "Epoch 69/200\n",
      "\u001B[1m804/804\u001B[0m \u001B[32m━━━━━━━━━━━━━━━━━━━━\u001B[0m\u001B[37m\u001B[0m \u001B[1m0s\u001B[0m 444us/step - accuracy: 0.7311 - loss: 0.5617\n",
      "Epoch 70/200\n",
      "\u001B[1m804/804\u001B[0m \u001B[32m━━━━━━━━━━━━━━━━━━━━\u001B[0m\u001B[37m\u001B[0m \u001B[1m0s\u001B[0m 445us/step - accuracy: 0.7217 - loss: 0.5809\n",
      "Epoch 71/200\n",
      "\u001B[1m804/804\u001B[0m \u001B[32m━━━━━━━━━━━━━━━━━━━━\u001B[0m\u001B[37m\u001B[0m \u001B[1m0s\u001B[0m 436us/step - accuracy: 0.7257 - loss: 0.5835\n",
      "Epoch 72/200\n",
      "\u001B[1m804/804\u001B[0m \u001B[32m━━━━━━━━━━━━━━━━━━━━\u001B[0m\u001B[37m\u001B[0m \u001B[1m0s\u001B[0m 436us/step - accuracy: 0.7314 - loss: 0.5624\n",
      "Epoch 73/200\n",
      "\u001B[1m804/804\u001B[0m \u001B[32m━━━━━━━━━━━━━━━━━━━━\u001B[0m\u001B[37m\u001B[0m \u001B[1m0s\u001B[0m 460us/step - accuracy: 0.7360 - loss: 0.5617\n",
      "Epoch 74/200\n",
      "\u001B[1m804/804\u001B[0m \u001B[32m━━━━━━━━━━━━━━━━━━━━\u001B[0m\u001B[37m\u001B[0m \u001B[1m0s\u001B[0m 467us/step - accuracy: 0.7386 - loss: 0.5689\n",
      "Epoch 75/200\n",
      "\u001B[1m804/804\u001B[0m \u001B[32m━━━━━━━━━━━━━━━━━━━━\u001B[0m\u001B[37m\u001B[0m \u001B[1m0s\u001B[0m 457us/step - accuracy: 0.7365 - loss: 0.5754\n",
      "Epoch 76/200\n",
      "\u001B[1m804/804\u001B[0m \u001B[32m━━━━━━━━━━━━━━━━━━━━\u001B[0m\u001B[37m\u001B[0m \u001B[1m0s\u001B[0m 460us/step - accuracy: 0.7372 - loss: 0.5627\n",
      "Epoch 77/200\n",
      "\u001B[1m804/804\u001B[0m \u001B[32m━━━━━━━━━━━━━━━━━━━━\u001B[0m\u001B[37m\u001B[0m \u001B[1m0s\u001B[0m 443us/step - accuracy: 0.7308 - loss: 0.5743\n",
      "Epoch 78/200\n",
      "\u001B[1m804/804\u001B[0m \u001B[32m━━━━━━━━━━━━━━━━━━━━\u001B[0m\u001B[37m\u001B[0m \u001B[1m0s\u001B[0m 453us/step - accuracy: 0.7350 - loss: 0.5674\n",
      "Epoch 79/200\n",
      "\u001B[1m804/804\u001B[0m \u001B[32m━━━━━━━━━━━━━━━━━━━━\u001B[0m\u001B[37m\u001B[0m \u001B[1m0s\u001B[0m 443us/step - accuracy: 0.7373 - loss: 0.5641\n",
      "Epoch 80/200\n",
      "\u001B[1m804/804\u001B[0m \u001B[32m━━━━━━━━━━━━━━━━━━━━\u001B[0m\u001B[37m\u001B[0m \u001B[1m0s\u001B[0m 448us/step - accuracy: 0.7391 - loss: 0.5659\n",
      "Epoch 81/200\n",
      "\u001B[1m804/804\u001B[0m \u001B[32m━━━━━━━━━━━━━━━━━━━━\u001B[0m\u001B[37m\u001B[0m \u001B[1m0s\u001B[0m 434us/step - accuracy: 0.7326 - loss: 0.5770\n",
      "Epoch 82/200\n",
      "\u001B[1m804/804\u001B[0m \u001B[32m━━━━━━━━━━━━━━━━━━━━\u001B[0m\u001B[37m\u001B[0m \u001B[1m0s\u001B[0m 444us/step - accuracy: 0.7360 - loss: 0.5812\n",
      "Epoch 83/200\n",
      "\u001B[1m804/804\u001B[0m \u001B[32m━━━━━━━━━━━━━━━━━━━━\u001B[0m\u001B[37m\u001B[0m \u001B[1m0s\u001B[0m 448us/step - accuracy: 0.7343 - loss: 0.5681\n",
      "Epoch 84/200\n",
      "\u001B[1m804/804\u001B[0m \u001B[32m━━━━━━━━━━━━━━━━━━━━\u001B[0m\u001B[37m\u001B[0m \u001B[1m0s\u001B[0m 434us/step - accuracy: 0.7311 - loss: 0.5731\n",
      "Epoch 85/200\n",
      "\u001B[1m804/804\u001B[0m \u001B[32m━━━━━━━━━━━━━━━━━━━━\u001B[0m\u001B[37m\u001B[0m \u001B[1m0s\u001B[0m 432us/step - accuracy: 0.7394 - loss: 0.5691\n",
      "Epoch 86/200\n",
      "\u001B[1m804/804\u001B[0m \u001B[32m━━━━━━━━━━━━━━━━━━━━\u001B[0m\u001B[37m\u001B[0m \u001B[1m0s\u001B[0m 438us/step - accuracy: 0.7405 - loss: 0.5723\n",
      "Epoch 87/200\n",
      "\u001B[1m804/804\u001B[0m \u001B[32m━━━━━━━━━━━━━━━━━━━━\u001B[0m\u001B[37m\u001B[0m \u001B[1m0s\u001B[0m 435us/step - accuracy: 0.7361 - loss: 0.5737\n",
      "Epoch 88/200\n",
      "\u001B[1m804/804\u001B[0m \u001B[32m━━━━━━━━━━━━━━━━━━━━\u001B[0m\u001B[37m\u001B[0m \u001B[1m0s\u001B[0m 433us/step - accuracy: 0.7367 - loss: 0.5808\n",
      "Epoch 89/200\n",
      "\u001B[1m804/804\u001B[0m \u001B[32m━━━━━━━━━━━━━━━━━━━━\u001B[0m\u001B[37m\u001B[0m \u001B[1m0s\u001B[0m 449us/step - accuracy: 0.7318 - loss: 0.5801\n",
      "Epoch 90/200\n",
      "\u001B[1m804/804\u001B[0m \u001B[32m━━━━━━━━━━━━━━━━━━━━\u001B[0m\u001B[37m\u001B[0m \u001B[1m0s\u001B[0m 437us/step - accuracy: 0.7408 - loss: 0.5743\n",
      "Epoch 91/200\n",
      "\u001B[1m804/804\u001B[0m \u001B[32m━━━━━━━━━━━━━━━━━━━━\u001B[0m\u001B[37m\u001B[0m \u001B[1m0s\u001B[0m 440us/step - accuracy: 0.7344 - loss: 0.5846\n",
      "Epoch 92/200\n",
      "\u001B[1m804/804\u001B[0m \u001B[32m━━━━━━━━━━━━━━━━━━━━\u001B[0m\u001B[37m\u001B[0m \u001B[1m0s\u001B[0m 432us/step - accuracy: 0.7376 - loss: 0.5885\n",
      "Epoch 93/200\n",
      "\u001B[1m804/804\u001B[0m \u001B[32m━━━━━━━━━━━━━━━━━━━━\u001B[0m\u001B[37m\u001B[0m \u001B[1m0s\u001B[0m 429us/step - accuracy: 0.7375 - loss: 0.5969\n",
      "Epoch 94/200\n",
      "\u001B[1m804/804\u001B[0m \u001B[32m━━━━━━━━━━━━━━━━━━━━\u001B[0m\u001B[37m\u001B[0m \u001B[1m0s\u001B[0m 446us/step - accuracy: 0.7314 - loss: 0.5685\n",
      "Epoch 95/200\n",
      "\u001B[1m804/804\u001B[0m \u001B[32m━━━━━━━━━━━━━━━━━━━━\u001B[0m\u001B[37m\u001B[0m \u001B[1m0s\u001B[0m 447us/step - accuracy: 0.7334 - loss: 0.5600\n",
      "Epoch 96/200\n",
      "\u001B[1m804/804\u001B[0m \u001B[32m━━━━━━━━━━━━━━━━━━━━\u001B[0m\u001B[37m\u001B[0m \u001B[1m0s\u001B[0m 457us/step - accuracy: 0.7362 - loss: 0.5803\n",
      "Epoch 97/200\n",
      "\u001B[1m804/804\u001B[0m \u001B[32m━━━━━━━━━━━━━━━━━━━━\u001B[0m\u001B[37m\u001B[0m \u001B[1m0s\u001B[0m 440us/step - accuracy: 0.7381 - loss: 0.5733\n",
      "Epoch 98/200\n",
      "\u001B[1m804/804\u001B[0m \u001B[32m━━━━━━━━━━━━━━━━━━━━\u001B[0m\u001B[37m\u001B[0m \u001B[1m0s\u001B[0m 437us/step - accuracy: 0.7368 - loss: 0.5665\n",
      "Epoch 99/200\n",
      "\u001B[1m804/804\u001B[0m \u001B[32m━━━━━━━━━━━━━━━━━━━━\u001B[0m\u001B[37m\u001B[0m \u001B[1m0s\u001B[0m 448us/step - accuracy: 0.7356 - loss: 0.5764\n",
      "Epoch 100/200\n",
      "\u001B[1m804/804\u001B[0m \u001B[32m━━━━━━━━━━━━━━━━━━━━\u001B[0m\u001B[37m\u001B[0m \u001B[1m0s\u001B[0m 438us/step - accuracy: 0.7363 - loss: 0.5630\n",
      "Epoch 101/200\n",
      "\u001B[1m804/804\u001B[0m \u001B[32m━━━━━━━━━━━━━━━━━━━━\u001B[0m\u001B[37m\u001B[0m \u001B[1m0s\u001B[0m 434us/step - accuracy: 0.7385 - loss: 0.5640\n",
      "Epoch 102/200\n",
      "\u001B[1m804/804\u001B[0m \u001B[32m━━━━━━━━━━━━━━━━━━━━\u001B[0m\u001B[37m\u001B[0m \u001B[1m0s\u001B[0m 444us/step - accuracy: 0.7336 - loss: 0.5668\n",
      "Epoch 103/200\n",
      "\u001B[1m804/804\u001B[0m \u001B[32m━━━━━━━━━━━━━━━━━━━━\u001B[0m\u001B[37m\u001B[0m \u001B[1m0s\u001B[0m 434us/step - accuracy: 0.7422 - loss: 0.5753\n",
      "Epoch 104/200\n",
      "\u001B[1m804/804\u001B[0m \u001B[32m━━━━━━━━━━━━━━━━━━━━\u001B[0m\u001B[37m\u001B[0m \u001B[1m0s\u001B[0m 438us/step - accuracy: 0.7393 - loss: 0.5651\n",
      "Epoch 105/200\n",
      "\u001B[1m804/804\u001B[0m \u001B[32m━━━━━━━━━━━━━━━━━━━━\u001B[0m\u001B[37m\u001B[0m \u001B[1m0s\u001B[0m 442us/step - accuracy: 0.7333 - loss: 0.5577\n",
      "Epoch 106/200\n",
      "\u001B[1m804/804\u001B[0m \u001B[32m━━━━━━━━━━━━━━━━━━━━\u001B[0m\u001B[37m\u001B[0m \u001B[1m0s\u001B[0m 432us/step - accuracy: 0.7327 - loss: 0.5596\n",
      "Epoch 107/200\n",
      "\u001B[1m804/804\u001B[0m \u001B[32m━━━━━━━━━━━━━━━━━━━━\u001B[0m\u001B[37m\u001B[0m \u001B[1m0s\u001B[0m 437us/step - accuracy: 0.7351 - loss: 0.5584\n",
      "Epoch 108/200\n",
      "\u001B[1m804/804\u001B[0m \u001B[32m━━━━━━━━━━━━━━━━━━━━\u001B[0m\u001B[37m\u001B[0m \u001B[1m0s\u001B[0m 440us/step - accuracy: 0.7346 - loss: 0.5679\n",
      "Epoch 109/200\n",
      "\u001B[1m804/804\u001B[0m \u001B[32m━━━━━━━━━━━━━━━━━━━━\u001B[0m\u001B[37m\u001B[0m \u001B[1m0s\u001B[0m 432us/step - accuracy: 0.7386 - loss: 0.5633\n",
      "Epoch 110/200\n",
      "\u001B[1m804/804\u001B[0m \u001B[32m━━━━━━━━━━━━━━━━━━━━\u001B[0m\u001B[37m\u001B[0m \u001B[1m0s\u001B[0m 438us/step - accuracy: 0.7382 - loss: 0.5541\n",
      "Epoch 111/200\n",
      "\u001B[1m804/804\u001B[0m \u001B[32m━━━━━━━━━━━━━━━━━━━━\u001B[0m\u001B[37m\u001B[0m \u001B[1m0s\u001B[0m 437us/step - accuracy: 0.7376 - loss: 0.5598\n",
      "Epoch 112/200\n",
      "\u001B[1m804/804\u001B[0m \u001B[32m━━━━━━━━━━━━━━━━━━━━\u001B[0m\u001B[37m\u001B[0m \u001B[1m0s\u001B[0m 433us/step - accuracy: 0.7391 - loss: 0.5524\n",
      "Epoch 113/200\n",
      "\u001B[1m804/804\u001B[0m \u001B[32m━━━━━━━━━━━━━━━━━━━━\u001B[0m\u001B[37m\u001B[0m \u001B[1m0s\u001B[0m 439us/step - accuracy: 0.7389 - loss: 0.5541\n",
      "Epoch 114/200\n",
      "\u001B[1m804/804\u001B[0m \u001B[32m━━━━━━━━━━━━━━━━━━━━\u001B[0m\u001B[37m\u001B[0m \u001B[1m0s\u001B[0m 432us/step - accuracy: 0.7370 - loss: 0.5663\n",
      "Epoch 115/200\n",
      "\u001B[1m804/804\u001B[0m \u001B[32m━━━━━━━━━━━━━━━━━━━━\u001B[0m\u001B[37m\u001B[0m \u001B[1m0s\u001B[0m 434us/step - accuracy: 0.7344 - loss: 0.5706\n",
      "Epoch 116/200\n",
      "\u001B[1m804/804\u001B[0m \u001B[32m━━━━━━━━━━━━━━━━━━━━\u001B[0m\u001B[37m\u001B[0m \u001B[1m0s\u001B[0m 441us/step - accuracy: 0.7378 - loss: 0.5796\n",
      "Epoch 117/200\n",
      "\u001B[1m804/804\u001B[0m \u001B[32m━━━━━━━━━━━━━━━━━━━━\u001B[0m\u001B[37m\u001B[0m \u001B[1m0s\u001B[0m 436us/step - accuracy: 0.7374 - loss: 0.5599\n",
      "Epoch 118/200\n",
      "\u001B[1m804/804\u001B[0m \u001B[32m━━━━━━━━━━━━━━━━━━━━\u001B[0m\u001B[37m\u001B[0m \u001B[1m0s\u001B[0m 442us/step - accuracy: 0.7395 - loss: 0.5562\n",
      "Epoch 119/200\n",
      "\u001B[1m804/804\u001B[0m \u001B[32m━━━━━━━━━━━━━━━━━━━━\u001B[0m\u001B[37m\u001B[0m \u001B[1m0s\u001B[0m 432us/step - accuracy: 0.7345 - loss: 0.5716\n",
      "Epoch 120/200\n",
      "\u001B[1m804/804\u001B[0m \u001B[32m━━━━━━━━━━━━━━━━━━━━\u001B[0m\u001B[37m\u001B[0m \u001B[1m0s\u001B[0m 432us/step - accuracy: 0.7316 - loss: 0.5783\n",
      "Epoch 121/200\n",
      "\u001B[1m804/804\u001B[0m \u001B[32m━━━━━━━━━━━━━━━━━━━━\u001B[0m\u001B[37m\u001B[0m \u001B[1m0s\u001B[0m 451us/step - accuracy: 0.7393 - loss: 0.5576\n",
      "Epoch 122/200\n",
      "\u001B[1m804/804\u001B[0m \u001B[32m━━━━━━━━━━━━━━━━━━━━\u001B[0m\u001B[37m\u001B[0m \u001B[1m0s\u001B[0m 433us/step - accuracy: 0.7356 - loss: 0.5728\n",
      "Epoch 123/200\n",
      "\u001B[1m804/804\u001B[0m \u001B[32m━━━━━━━━━━━━━━━━━━━━\u001B[0m\u001B[37m\u001B[0m \u001B[1m0s\u001B[0m 432us/step - accuracy: 0.7405 - loss: 0.5688\n",
      "Epoch 124/200\n",
      "\u001B[1m804/804\u001B[0m \u001B[32m━━━━━━━━━━━━━━━━━━━━\u001B[0m\u001B[37m\u001B[0m \u001B[1m0s\u001B[0m 437us/step - accuracy: 0.7376 - loss: 0.5788\n",
      "Epoch 125/200\n",
      "\u001B[1m804/804\u001B[0m \u001B[32m━━━━━━━━━━━━━━━━━━━━\u001B[0m\u001B[37m\u001B[0m \u001B[1m0s\u001B[0m 429us/step - accuracy: 0.7384 - loss: 0.5672\n",
      "Epoch 126/200\n",
      "\u001B[1m804/804\u001B[0m \u001B[32m━━━━━━━━━━━━━━━━━━━━\u001B[0m\u001B[37m\u001B[0m \u001B[1m0s\u001B[0m 436us/step - accuracy: 0.7414 - loss: 0.5622\n",
      "Epoch 127/200\n",
      "\u001B[1m804/804\u001B[0m \u001B[32m━━━━━━━━━━━━━━━━━━━━\u001B[0m\u001B[37m\u001B[0m \u001B[1m0s\u001B[0m 434us/step - accuracy: 0.7381 - loss: 0.5578\n",
      "Epoch 128/200\n",
      "\u001B[1m804/804\u001B[0m \u001B[32m━━━━━━━━━━━━━━━━━━━━\u001B[0m\u001B[37m\u001B[0m \u001B[1m0s\u001B[0m 430us/step - accuracy: 0.7303 - loss: 0.5652\n",
      "Epoch 129/200\n",
      "\u001B[1m804/804\u001B[0m \u001B[32m━━━━━━━━━━━━━━━━━━━━\u001B[0m\u001B[37m\u001B[0m \u001B[1m0s\u001B[0m 438us/step - accuracy: 0.7353 - loss: 0.5625\n",
      "Epoch 130/200\n",
      "\u001B[1m804/804\u001B[0m \u001B[32m━━━━━━━━━━━━━━━━━━━━\u001B[0m\u001B[37m\u001B[0m \u001B[1m0s\u001B[0m 432us/step - accuracy: 0.7392 - loss: 0.5641\n",
      "Epoch 131/200\n",
      "\u001B[1m804/804\u001B[0m \u001B[32m━━━━━━━━━━━━━━━━━━━━\u001B[0m\u001B[37m\u001B[0m \u001B[1m0s\u001B[0m 430us/step - accuracy: 0.7406 - loss: 0.5614\n",
      "Epoch 132/200\n",
      "\u001B[1m804/804\u001B[0m \u001B[32m━━━━━━━━━━━━━━━━━━━━\u001B[0m\u001B[37m\u001B[0m \u001B[1m0s\u001B[0m 456us/step - accuracy: 0.7336 - loss: 0.5668\n",
      "Epoch 133/200\n",
      "\u001B[1m804/804\u001B[0m \u001B[32m━━━━━━━━━━━━━━━━━━━━\u001B[0m\u001B[37m\u001B[0m \u001B[1m0s\u001B[0m 447us/step - accuracy: 0.7374 - loss: 0.5692\n",
      "Epoch 134/200\n",
      "\u001B[1m804/804\u001B[0m \u001B[32m━━━━━━━━━━━━━━━━━━━━\u001B[0m\u001B[37m\u001B[0m \u001B[1m0s\u001B[0m 437us/step - accuracy: 0.7406 - loss: 0.5550\n",
      "Epoch 135/200\n",
      "\u001B[1m804/804\u001B[0m \u001B[32m━━━━━━━━━━━━━━━━━━━━\u001B[0m\u001B[37m\u001B[0m \u001B[1m0s\u001B[0m 442us/step - accuracy: 0.7386 - loss: 0.5562\n",
      "Epoch 136/200\n",
      "\u001B[1m804/804\u001B[0m \u001B[32m━━━━━━━━━━━━━━━━━━━━\u001B[0m\u001B[37m\u001B[0m \u001B[1m0s\u001B[0m 435us/step - accuracy: 0.7348 - loss: 0.5628\n",
      "Epoch 137/200\n",
      "\u001B[1m804/804\u001B[0m \u001B[32m━━━━━━━━━━━━━━━━━━━━\u001B[0m\u001B[37m\u001B[0m \u001B[1m0s\u001B[0m 442us/step - accuracy: 0.7357 - loss: 0.5585\n",
      "Epoch 138/200\n",
      "\u001B[1m804/804\u001B[0m \u001B[32m━━━━━━━━━━━━━━━━━━━━\u001B[0m\u001B[37m\u001B[0m \u001B[1m0s\u001B[0m 433us/step - accuracy: 0.7320 - loss: 0.5611\n",
      "Epoch 139/200\n",
      "\u001B[1m804/804\u001B[0m \u001B[32m━━━━━━━━━━━━━━━━━━━━\u001B[0m\u001B[37m\u001B[0m \u001B[1m0s\u001B[0m 438us/step - accuracy: 0.7391 - loss: 0.5586\n",
      "Epoch 140/200\n",
      "\u001B[1m804/804\u001B[0m \u001B[32m━━━━━━━━━━━━━━━━━━━━\u001B[0m\u001B[37m\u001B[0m \u001B[1m0s\u001B[0m 442us/step - accuracy: 0.7329 - loss: 0.5624\n",
      "Epoch 141/200\n",
      "\u001B[1m804/804\u001B[0m \u001B[32m━━━━━━━━━━━━━━━━━━━━\u001B[0m\u001B[37m\u001B[0m \u001B[1m0s\u001B[0m 459us/step - accuracy: 0.7429 - loss: 0.5474\n",
      "Epoch 142/200\n",
      "\u001B[1m804/804\u001B[0m \u001B[32m━━━━━━━━━━━━━━━━━━━━\u001B[0m\u001B[37m\u001B[0m \u001B[1m0s\u001B[0m 443us/step - accuracy: 0.7409 - loss: 0.5530\n",
      "Epoch 143/200\n",
      "\u001B[1m804/804\u001B[0m \u001B[32m━━━━━━━━━━━━━━━━━━━━\u001B[0m\u001B[37m\u001B[0m \u001B[1m0s\u001B[0m 463us/step - accuracy: 0.7396 - loss: 0.5625\n",
      "Epoch 144/200\n",
      "\u001B[1m804/804\u001B[0m \u001B[32m━━━━━━━━━━━━━━━━━━━━\u001B[0m\u001B[37m\u001B[0m \u001B[1m0s\u001B[0m 463us/step - accuracy: 0.7278 - loss: 0.5639\n",
      "Epoch 145/200\n",
      "\u001B[1m804/804\u001B[0m \u001B[32m━━━━━━━━━━━━━━━━━━━━\u001B[0m\u001B[37m\u001B[0m \u001B[1m0s\u001B[0m 489us/step - accuracy: 0.7384 - loss: 0.5646\n",
      "Epoch 146/200\n",
      "\u001B[1m804/804\u001B[0m \u001B[32m━━━━━━━━━━━━━━━━━━━━\u001B[0m\u001B[37m\u001B[0m \u001B[1m0s\u001B[0m 506us/step - accuracy: 0.7341 - loss: 0.5809\n",
      "Epoch 147/200\n",
      "\u001B[1m804/804\u001B[0m \u001B[32m━━━━━━━━━━━━━━━━━━━━\u001B[0m\u001B[37m\u001B[0m \u001B[1m0s\u001B[0m 467us/step - accuracy: 0.7343 - loss: 0.5776\n",
      "Epoch 148/200\n",
      "\u001B[1m804/804\u001B[0m \u001B[32m━━━━━━━━━━━━━━━━━━━━\u001B[0m\u001B[37m\u001B[0m \u001B[1m0s\u001B[0m 463us/step - accuracy: 0.7397 - loss: 0.5905\n",
      "Epoch 149/200\n",
      "\u001B[1m804/804\u001B[0m \u001B[32m━━━━━━━━━━━━━━━━━━━━\u001B[0m\u001B[37m\u001B[0m \u001B[1m0s\u001B[0m 435us/step - accuracy: 0.7358 - loss: 0.5789\n",
      "Epoch 150/200\n",
      "\u001B[1m804/804\u001B[0m \u001B[32m━━━━━━━━━━━━━━━━━━━━\u001B[0m\u001B[37m\u001B[0m \u001B[1m0s\u001B[0m 440us/step - accuracy: 0.7359 - loss: 0.5891\n",
      "Epoch 151/200\n",
      "\u001B[1m804/804\u001B[0m \u001B[32m━━━━━━━━━━━━━━━━━━━━\u001B[0m\u001B[37m\u001B[0m \u001B[1m0s\u001B[0m 428us/step - accuracy: 0.7066 - loss: 0.5890\n",
      "Epoch 152/200\n",
      "\u001B[1m804/804\u001B[0m \u001B[32m━━━━━━━━━━━━━━━━━━━━\u001B[0m\u001B[37m\u001B[0m \u001B[1m0s\u001B[0m 428us/step - accuracy: 0.7429 - loss: 0.5700\n",
      "Epoch 153/200\n",
      "\u001B[1m804/804\u001B[0m \u001B[32m━━━━━━━━━━━━━━━━━━━━\u001B[0m\u001B[37m\u001B[0m \u001B[1m0s\u001B[0m 448us/step - accuracy: 0.7344 - loss: 0.5670\n",
      "Epoch 154/200\n",
      "\u001B[1m804/804\u001B[0m \u001B[32m━━━━━━━━━━━━━━━━━━━━\u001B[0m\u001B[37m\u001B[0m \u001B[1m0s\u001B[0m 441us/step - accuracy: 0.7373 - loss: 0.5638\n",
      "Epoch 155/200\n",
      "\u001B[1m804/804\u001B[0m \u001B[32m━━━━━━━━━━━━━━━━━━━━\u001B[0m\u001B[37m\u001B[0m \u001B[1m0s\u001B[0m 440us/step - accuracy: 0.7377 - loss: 0.5628\n",
      "Epoch 156/200\n",
      "\u001B[1m804/804\u001B[0m \u001B[32m━━━━━━━━━━━━━━━━━━━━\u001B[0m\u001B[37m\u001B[0m \u001B[1m0s\u001B[0m 437us/step - accuracy: 0.7412 - loss: 0.5580\n",
      "Epoch 157/200\n",
      "\u001B[1m804/804\u001B[0m \u001B[32m━━━━━━━━━━━━━━━━━━━━\u001B[0m\u001B[37m\u001B[0m \u001B[1m0s\u001B[0m 445us/step - accuracy: 0.7330 - loss: 0.5889\n",
      "Epoch 158/200\n",
      "\u001B[1m804/804\u001B[0m \u001B[32m━━━━━━━━━━━━━━━━━━━━\u001B[0m\u001B[37m\u001B[0m \u001B[1m0s\u001B[0m 467us/step - accuracy: 0.7365 - loss: 0.5812\n",
      "Epoch 159/200\n",
      "\u001B[1m804/804\u001B[0m \u001B[32m━━━━━━━━━━━━━━━━━━━━\u001B[0m\u001B[37m\u001B[0m \u001B[1m0s\u001B[0m 437us/step - accuracy: 0.7412 - loss: 0.6003\n",
      "Epoch 160/200\n",
      "\u001B[1m804/804\u001B[0m \u001B[32m━━━━━━━━━━━━━━━━━━━━\u001B[0m\u001B[37m\u001B[0m \u001B[1m0s\u001B[0m 428us/step - accuracy: 0.7397 - loss: 0.5739\n",
      "Epoch 161/200\n",
      "\u001B[1m804/804\u001B[0m \u001B[32m━━━━━━━━━━━━━━━━━━━━\u001B[0m\u001B[37m\u001B[0m \u001B[1m0s\u001B[0m 444us/step - accuracy: 0.7341 - loss: 0.5775\n",
      "Epoch 162/200\n",
      "\u001B[1m804/804\u001B[0m \u001B[32m━━━━━━━━━━━━━━━━━━━━\u001B[0m\u001B[37m\u001B[0m \u001B[1m0s\u001B[0m 429us/step - accuracy: 0.7384 - loss: 0.5592\n",
      "Epoch 163/200\n",
      "\u001B[1m804/804\u001B[0m \u001B[32m━━━━━━━━━━━━━━━━━━━━\u001B[0m\u001B[37m\u001B[0m \u001B[1m0s\u001B[0m 433us/step - accuracy: 0.7300 - loss: 0.5604\n",
      "Epoch 164/200\n",
      "\u001B[1m804/804\u001B[0m \u001B[32m━━━━━━━━━━━━━━━━━━━━\u001B[0m\u001B[37m\u001B[0m \u001B[1m0s\u001B[0m 448us/step - accuracy: 0.7331 - loss: 0.5779\n",
      "Epoch 165/200\n",
      "\u001B[1m804/804\u001B[0m \u001B[32m━━━━━━━━━━━━━━━━━━━━\u001B[0m\u001B[37m\u001B[0m \u001B[1m0s\u001B[0m 431us/step - accuracy: 0.7344 - loss: 0.5658\n",
      "Epoch 166/200\n",
      "\u001B[1m804/804\u001B[0m \u001B[32m━━━━━━━━━━━━━━━━━━━━\u001B[0m\u001B[37m\u001B[0m \u001B[1m0s\u001B[0m 429us/step - accuracy: 0.7381 - loss: 0.5535\n",
      "Epoch 167/200\n",
      "\u001B[1m804/804\u001B[0m \u001B[32m━━━━━━━━━━━━━━━━━━━━\u001B[0m\u001B[37m\u001B[0m \u001B[1m0s\u001B[0m 451us/step - accuracy: 0.7407 - loss: 0.5594\n",
      "Epoch 168/200\n",
      "\u001B[1m804/804\u001B[0m \u001B[32m━━━━━━━━━━━━━━━━━━━━\u001B[0m\u001B[37m\u001B[0m \u001B[1m0s\u001B[0m 449us/step - accuracy: 0.7419 - loss: 0.5715\n",
      "Epoch 169/200\n",
      "\u001B[1m804/804\u001B[0m \u001B[32m━━━━━━━━━━━━━━━━━━━━\u001B[0m\u001B[37m\u001B[0m \u001B[1m0s\u001B[0m 461us/step - accuracy: 0.7367 - loss: 0.5652\n",
      "Epoch 170/200\n",
      "\u001B[1m804/804\u001B[0m \u001B[32m━━━━━━━━━━━━━━━━━━━━\u001B[0m\u001B[37m\u001B[0m \u001B[1m0s\u001B[0m 445us/step - accuracy: 0.7369 - loss: 0.5678\n",
      "Epoch 171/200\n",
      "\u001B[1m804/804\u001B[0m \u001B[32m━━━━━━━━━━━━━━━━━━━━\u001B[0m\u001B[37m\u001B[0m \u001B[1m0s\u001B[0m 437us/step - accuracy: 0.7396 - loss: 0.5591\n",
      "Epoch 172/200\n",
      "\u001B[1m804/804\u001B[0m \u001B[32m━━━━━━━━━━━━━━━━━━━━\u001B[0m\u001B[37m\u001B[0m \u001B[1m0s\u001B[0m 446us/step - accuracy: 0.7352 - loss: 0.5604\n",
      "Epoch 173/200\n",
      "\u001B[1m804/804\u001B[0m \u001B[32m━━━━━━━━━━━━━━━━━━━━\u001B[0m\u001B[37m\u001B[0m \u001B[1m0s\u001B[0m 442us/step - accuracy: 0.7396 - loss: 0.5657\n",
      "Epoch 174/200\n",
      "\u001B[1m804/804\u001B[0m \u001B[32m━━━━━━━━━━━━━━━━━━━━\u001B[0m\u001B[37m\u001B[0m \u001B[1m0s\u001B[0m 468us/step - accuracy: 0.7400 - loss: 0.5482\n",
      "Epoch 175/200\n",
      "\u001B[1m804/804\u001B[0m \u001B[32m━━━━━━━━━━━━━━━━━━━━\u001B[0m\u001B[37m\u001B[0m \u001B[1m0s\u001B[0m 462us/step - accuracy: 0.7424 - loss: 0.5541\n",
      "Epoch 176/200\n",
      "\u001B[1m804/804\u001B[0m \u001B[32m━━━━━━━━━━━━━━━━━━━━\u001B[0m\u001B[37m\u001B[0m \u001B[1m0s\u001B[0m 449us/step - accuracy: 0.7334 - loss: 0.5816\n",
      "Epoch 177/200\n",
      "\u001B[1m804/804\u001B[0m \u001B[32m━━━━━━━━━━━━━━━━━━━━\u001B[0m\u001B[37m\u001B[0m \u001B[1m0s\u001B[0m 463us/step - accuracy: 0.7399 - loss: 0.5704\n",
      "Epoch 178/200\n",
      "\u001B[1m804/804\u001B[0m \u001B[32m━━━━━━━━━━━━━━━━━━━━\u001B[0m\u001B[37m\u001B[0m \u001B[1m0s\u001B[0m 455us/step - accuracy: 0.7355 - loss: 0.5729\n",
      "Epoch 179/200\n",
      "\u001B[1m804/804\u001B[0m \u001B[32m━━━━━━━━━━━━━━━━━━━━\u001B[0m\u001B[37m\u001B[0m \u001B[1m0s\u001B[0m 454us/step - accuracy: 0.7418 - loss: 0.5696\n",
      "Epoch 180/200\n",
      "\u001B[1m804/804\u001B[0m \u001B[32m━━━━━━━━━━━━━━━━━━━━\u001B[0m\u001B[37m\u001B[0m \u001B[1m0s\u001B[0m 450us/step - accuracy: 0.7365 - loss: 0.5760\n",
      "Epoch 181/200\n",
      "\u001B[1m804/804\u001B[0m \u001B[32m━━━━━━━━━━━━━━━━━━━━\u001B[0m\u001B[37m\u001B[0m \u001B[1m0s\u001B[0m 437us/step - accuracy: 0.7376 - loss: 0.5788\n",
      "Epoch 182/200\n",
      "\u001B[1m804/804\u001B[0m \u001B[32m━━━━━━━━━━━━━━━━━━━━\u001B[0m\u001B[37m\u001B[0m \u001B[1m0s\u001B[0m 445us/step - accuracy: 0.7402 - loss: 0.6442\n",
      "Epoch 183/200\n",
      "\u001B[1m804/804\u001B[0m \u001B[32m━━━━━━━━━━━━━━━━━━━━\u001B[0m\u001B[37m\u001B[0m \u001B[1m0s\u001B[0m 445us/step - accuracy: 0.7420 - loss: 0.5560\n",
      "Epoch 184/200\n",
      "\u001B[1m804/804\u001B[0m \u001B[32m━━━━━━━━━━━━━━━━━━━━\u001B[0m\u001B[37m\u001B[0m \u001B[1m0s\u001B[0m 444us/step - accuracy: 0.7373 - loss: 0.5726\n",
      "Epoch 185/200\n",
      "\u001B[1m804/804\u001B[0m \u001B[32m━━━━━━━━━━━━━━━━━━━━\u001B[0m\u001B[37m\u001B[0m \u001B[1m0s\u001B[0m 446us/step - accuracy: 0.7424 - loss: 0.5587\n",
      "Epoch 186/200\n",
      "\u001B[1m804/804\u001B[0m \u001B[32m━━━━━━━━━━━━━━━━━━━━\u001B[0m\u001B[37m\u001B[0m \u001B[1m0s\u001B[0m 460us/step - accuracy: 0.7306 - loss: 0.5744\n",
      "Epoch 187/200\n",
      "\u001B[1m804/804\u001B[0m \u001B[32m━━━━━━━━━━━━━━━━━━━━\u001B[0m\u001B[37m\u001B[0m \u001B[1m0s\u001B[0m 454us/step - accuracy: 0.7410 - loss: 0.5621\n",
      "Epoch 188/200\n",
      "\u001B[1m804/804\u001B[0m \u001B[32m━━━━━━━━━━━━━━━━━━━━\u001B[0m\u001B[37m\u001B[0m \u001B[1m0s\u001B[0m 461us/step - accuracy: 0.7394 - loss: 0.5602\n",
      "Epoch 189/200\n",
      "\u001B[1m804/804\u001B[0m \u001B[32m━━━━━━━━━━━━━━━━━━━━\u001B[0m\u001B[37m\u001B[0m \u001B[1m0s\u001B[0m 451us/step - accuracy: 0.7405 - loss: 0.5560\n",
      "Epoch 190/200\n",
      "\u001B[1m804/804\u001B[0m \u001B[32m━━━━━━━━━━━━━━━━━━━━\u001B[0m\u001B[37m\u001B[0m \u001B[1m0s\u001B[0m 459us/step - accuracy: 0.7365 - loss: 0.5665\n",
      "Epoch 191/200\n",
      "\u001B[1m804/804\u001B[0m \u001B[32m━━━━━━━━━━━━━━━━━━━━\u001B[0m\u001B[37m\u001B[0m \u001B[1m0s\u001B[0m 436us/step - accuracy: 0.7363 - loss: 0.5686\n",
      "Epoch 192/200\n",
      "\u001B[1m804/804\u001B[0m \u001B[32m━━━━━━━━━━━━━━━━━━━━\u001B[0m\u001B[37m\u001B[0m \u001B[1m0s\u001B[0m 433us/step - accuracy: 0.7364 - loss: 0.5637\n",
      "Epoch 193/200\n",
      "\u001B[1m804/804\u001B[0m \u001B[32m━━━━━━━━━━━━━━━━━━━━\u001B[0m\u001B[37m\u001B[0m \u001B[1m0s\u001B[0m 462us/step - accuracy: 0.7430 - loss: 0.5536\n",
      "Epoch 194/200\n",
      "\u001B[1m804/804\u001B[0m \u001B[32m━━━━━━━━━━━━━━━━━━━━\u001B[0m\u001B[37m\u001B[0m \u001B[1m0s\u001B[0m 461us/step - accuracy: 0.7408 - loss: 0.5525\n",
      "Epoch 195/200\n",
      "\u001B[1m804/804\u001B[0m \u001B[32m━━━━━━━━━━━━━━━━━━━━\u001B[0m\u001B[37m\u001B[0m \u001B[1m0s\u001B[0m 462us/step - accuracy: 0.7416 - loss: 0.5671\n",
      "Epoch 196/200\n",
      "\u001B[1m804/804\u001B[0m \u001B[32m━━━━━━━━━━━━━━━━━━━━\u001B[0m\u001B[37m\u001B[0m \u001B[1m0s\u001B[0m 452us/step - accuracy: 0.7318 - loss: 0.5588\n",
      "Epoch 197/200\n",
      "\u001B[1m804/804\u001B[0m \u001B[32m━━━━━━━━━━━━━━━━━━━━\u001B[0m\u001B[37m\u001B[0m \u001B[1m0s\u001B[0m 441us/step - accuracy: 0.7392 - loss: 0.5626\n",
      "Epoch 198/200\n",
      "\u001B[1m804/804\u001B[0m \u001B[32m━━━━━━━━━━━━━━━━━━━━\u001B[0m\u001B[37m\u001B[0m \u001B[1m0s\u001B[0m 448us/step - accuracy: 0.7437 - loss: 0.5498\n",
      "Epoch 199/200\n",
      "\u001B[1m804/804\u001B[0m \u001B[32m━━━━━━━━━━━━━━━━━━━━\u001B[0m\u001B[37m\u001B[0m \u001B[1m0s\u001B[0m 463us/step - accuracy: 0.7397 - loss: 0.5570\n",
      "Epoch 200/200\n",
      "\u001B[1m804/804\u001B[0m \u001B[32m━━━━━━━━━━━━━━━━━━━━\u001B[0m\u001B[37m\u001B[0m \u001B[1m0s\u001B[0m 447us/step - accuracy: 0.7419 - loss: 0.5609\n"
     ]
    }
   ],
   "execution_count": 29
  },
  {
   "cell_type": "code",
   "metadata": {
    "ExecuteTime": {
     "end_time": "2024-09-09T22:42:54.683210Z",
     "start_time": "2024-09-09T22:42:54.496217Z"
    }
   },
   "source": [
    "# Evaluate the model using the test data\n",
    "model_loss, model_accuracy = nn.evaluate(X_test_scaled,y_test,verbose=2)\n",
    "print(f\"Loss: {model_loss}, Accuracy: {model_accuracy}\")"
   ],
   "outputs": [
    {
     "name": "stdout",
     "output_type": "stream",
     "text": [
      "268/268 - 0s - 587us/step - accuracy: 0.7303 - loss: 0.6175\n",
      "Loss: 0.6175310611724854, Accuracy: 0.7302623987197876\n"
     ]
    }
   ],
   "execution_count": 30
  },
  {
   "cell_type": "code",
   "metadata": {
    "ExecuteTime": {
     "end_time": "2024-09-09T22:46:46.775238Z",
     "start_time": "2024-09-09T22:46:46.761983Z"
    }
   },
   "source": [
    "# Export our model to HDF5 file\n",
    "nn.save('ModelExport/CharityDeepLearningModel.h5')"
   ],
   "outputs": [
    {
     "name": "stderr",
     "output_type": "stream",
     "text": [
      "WARNING:absl:You are saving your model as an HDF5 file via `model.save()` or `keras.saving.save_model(model)`. This file format is considered legacy. We recommend using instead the native Keras format, e.g. `model.save('my_model.keras')` or `keras.saving.save_model(model, 'my_model.keras')`. \n"
     ]
    }
   ],
   "execution_count": 33
  },
  {
   "metadata": {},
   "cell_type": "code",
   "outputs": [],
   "execution_count": null,
   "source": ""
  }
 ],
 "metadata": {
  "kernelspec": {
   "display_name": "Python 3",
   "language": "python",
   "name": "python3"
  },
  "language_info": {
   "codemirror_mode": {
    "name": "ipython",
    "version": 3
   },
   "file_extension": ".py",
   "mimetype": "text/x-python",
   "name": "python",
   "nbconvert_exporter": "python",
   "pygments_lexer": "ipython3",
   "version": "3.-1.-1"
  },
  "vscode": {
   "interpreter": {
    "hash": "31f2aee4e71d21fbe5cf8b01ff0e069b9275f58929596ceb00d14d90e3e16cd6"
   }
  }
 },
 "nbformat": 4,
 "nbformat_minor": 4
}
